{
 "cells": [
  {
   "cell_type": "code",
   "execution_count": 9,
   "metadata": {},
   "outputs": [
    {
     "name": "stdout",
     "output_type": "stream",
     "text": [
      "Requirement already satisfied: pymongo in c:\\users\\marcines\\anaconda3\\lib\\site-packages (3.11.3)\n",
      "Note: you may need to restart the kernel to use updated packages.\n"
     ]
    }
   ],
   "source": [
    "pip install pymongo"
   ]
  },
  {
   "cell_type": "code",
   "execution_count": 10,
   "metadata": {},
   "outputs": [],
   "source": [
    "import pymongo"
   ]
  },
  {
   "cell_type": "code",
   "execution_count": 14,
   "metadata": {},
   "outputs": [],
   "source": [
    "# Connect to MongoDB server and reference a database collection\n",
    "#local  instance\n",
    "client = pymongo.MongoClient('192.168.56.30', 27017)\n",
    "#azure instance\n",
    "#client = pymongo.MongoClient('13.95.231.221', 27017)\n",
    "db = client.mynewdb\n",
    "coll = db.mynewcollection"
   ]
  },
  {
   "cell_type": "code",
   "execution_count": 15,
   "metadata": {},
   "outputs": [
    {
     "name": "stdout",
     "output_type": "stream",
     "text": [
      "{'_id': ObjectId('604a707c536146e034614ac8'), 'Message': 'This is a test record.'}\n",
      "{'_id': ObjectId('604a7083536146e034614ac9'), 'Message': 'Hello World!!'}\n",
      "{'_id': ObjectId('604a765c5d64dbdfe08fd232'), 'Message': 'Farewell World!!'}\n",
      "{'_id': ObjectId('604a765c5d64dbdfe08fd233'), 'Message': 'Hello Again World!!'}\n"
     ]
    }
   ],
   "source": [
    "# Iterate over all records in the collection\n",
    "for m in coll.find({}):\n",
    " print(m)"
   ]
  },
  {
   "cell_type": "code",
   "execution_count": 16,
   "metadata": {},
   "outputs": [
    {
     "name": "stdout",
     "output_type": "stream",
     "text": [
      "606070b843c2b7a6505ff642\n",
      "606070b843c2b7a6505ff643\n"
     ]
    }
   ],
   "source": [
    "# Insert many records into the collection\n",
    "new_msgs = [{\"Message\": \"Farewell World!!\"}, {\"Message\": \"Hello Again World!!\"}]\n",
    "result = coll.insert_many(new_msgs)\n",
    "for id in result.inserted_ids:\n",
    " print(id)"
   ]
  },
  {
   "cell_type": "code",
   "execution_count": 17,
   "metadata": {},
   "outputs": [
    {
     "name": "stdout",
     "output_type": "stream",
     "text": [
      "6\n"
     ]
    }
   ],
   "source": [
    "# Count the number of records in the collection\n",
    "print(coll.count_documents({}))"
   ]
  },
  {
   "cell_type": "code",
   "execution_count": 6,
   "metadata": {},
   "outputs": [
    {
     "name": "stdout",
     "output_type": "stream",
     "text": [
      "{'_id': ObjectId('604a7083536146e034614ac9'), 'Message': 'Hello World!!'}\n",
      "{'_id': ObjectId('604a765c5d64dbdfe08fd233'), 'Message': 'Hello Again World!!'}\n"
     ]
    }
   ],
   "source": [
    "# Use a regular expression as a search filter\n",
    "for m in coll.find({\"Message\": {\"$regex\":\".*Hello.*\"}}):\n",
    " print(m)\n"
   ]
  },
  {
   "cell_type": "code",
   "execution_count": null,
   "metadata": {},
   "outputs": [],
   "source": []
  }
 ],
 "metadata": {
  "kernelspec": {
   "display_name": "Python 3",
   "language": "python",
   "name": "python3"
  },
  "language_info": {
   "codemirror_mode": {
    "name": "ipython",
    "version": 3
   },
   "file_extension": ".py",
   "mimetype": "text/x-python",
   "name": "python",
   "nbconvert_exporter": "python",
   "pygments_lexer": "ipython3",
   "version": "3.8.5"
  }
 },
 "nbformat": 4,
 "nbformat_minor": 4
}
