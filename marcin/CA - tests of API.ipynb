{
 "cells": [
  {
   "cell_type": "code",
   "execution_count": 5,
   "metadata": {},
   "outputs": [
    {
     "name": "stdout",
     "output_type": "stream",
     "text": [
      "Enter country: pl\n",
      "\n",
      "{'data': {'location': 'Poland', 'confirmed': 2189966, 'deaths': 51305, 'recovered': 1747223, 'active': 391438}, 'dt': '03-27-2021', 'ts': 1616803200}\n",
      "--------------------------------------------------------------------------------\n",
      " Confirmed cases in pl: 2189966\n",
      " Deaths in pl:  51305\n"
     ]
    }
   ],
   "source": [
    "# Test of Json API (found here: https://www.programmableweb.com/api/covid2019-rest-api-v10)\n",
    "import requests\n",
    "\n",
    "def get_country_covid_info(query):\n",
    "    res=requests.get('https://covid2019-api.herokuapp.com/v2/country/'+query);\n",
    "    print(res.json())\n",
    "    return res.json();\n",
    "\n",
    "def print_country_covid_info(result,country):\n",
    "    print('----'*20)\n",
    "    print(f\" Confirmed cases in {country}: {result['data']['confirmed']}\")\n",
    "    print(f\" Deaths in {country}:  {result['data']['deaths']}\")\n",
    "#    print(\"Wind speed: {} m/s\".format(result['wind']['speed']))\n",
    "#    print(\"Description: {}\".format(result['weather'][0]['description']))\n",
    "#    print(\"Weather: {}\".format(result['weather'][0]['main']))\n",
    "\n",
    "def main():\n",
    "    country=input('Enter country: ')\n",
    "    print()\n",
    "    try:\n",
    "      query=country;\n",
    "      w_data=get_country_covid_info(query);\n",
    "      print_country_covid_info(w_data, country)\n",
    "    except:\n",
    "      print('API call failed...')\n",
    "if __name__=='__main__':\n",
    "    main()"
   ]
  },
  {
   "cell_type": "code",
   "execution_count": 2,
   "metadata": {},
   "outputs": [],
   "source": [
    "# Question 4\n",
    "import xml.etree.ElementTree as ET\n",
    "import csv\n",
    "\n",
    "xmlFile = \"people.xml\"\n",
    "tree = ET.parse(xmlFile)\n",
    "root = tree.getroot()\n",
    "\n",
    "# open a file for writing\n",
    "\n",
    "csvFile = \"residentData.csv\"\n",
    "\n",
    "Resident_data = open(csvFile, 'w')\n",
    "\n",
    "# create the csv writer object\n",
    "\n",
    "csvwriter = csv.writer(Resident_data)\n",
    "resident_head = []\n",
    "\n",
    "count = 0\n",
    "for member in root.findall('Resident'):\n",
    "    resident = []\n",
    "    address_list = []\n",
    "    if count == 0:\n",
    "        name = member.find('Name').tag\n",
    "        resident_head.append(name)\n",
    "        PhoneNumber = member.find('PhoneNumber').tag\n",
    "        resident_head.append(PhoneNumber)\n",
    "        EmailAddress = member.find('EmailAddress').tag\n",
    "        resident_head.append(EmailAddress)\n",
    "        Address = member[3].tag\n",
    "        resident_head.append(Address)\n",
    "        csvwriter.writerow(resident_head)\n",
    "        count = count + 1\n",
    "\n",
    "    name = member.find('Name').text\n",
    "    resident.append(name)\n",
    "    PhoneNumber = member.find('PhoneNumber').text\n",
    "    resident.append(PhoneNumber)\n",
    "    EmailAddress = member.find('EmailAddress').text\n",
    "    resident.append(EmailAddress)\n",
    "    Address = member[3][0].text\n",
    "    address_list.append(Address)\n",
    "    City = member[3][1].text\n",
    "    address_list.append(City)\n",
    "    StateCode = member[3][2].text\n",
    "    address_list.append(StateCode)\n",
    "    PostalCode = member[3][3].text\n",
    "    address_list.append(PostalCode)\n",
    "    resident.append(address_list)\n",
    "    csvwriter.writerow(resident)\n",
    "\n",
    "Resident_data.close()"
   ]
  },
  {
   "cell_type": "code",
   "execution_count": null,
   "metadata": {},
   "outputs": [],
   "source": []
  }
 ],
 "metadata": {
  "kernelspec": {
   "display_name": "Python 3",
   "language": "python",
   "name": "python3"
  },
  "language_info": {
   "codemirror_mode": {
    "name": "ipython",
    "version": 3
   },
   "file_extension": ".py",
   "mimetype": "text/x-python",
   "name": "python",
   "nbconvert_exporter": "python",
   "pygments_lexer": "ipython3",
   "version": "3.8.5"
  }
 },
 "nbformat": 4,
 "nbformat_minor": 2
}
