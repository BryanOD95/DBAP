{
 "cells": [
  {
   "cell_type": "markdown",
   "metadata": {},
   "source": [
    "## 1. Introduction"
   ]
  },
  {
   "cell_type": "markdown",
   "metadata": {},
   "source": [
    "This  file s a sample of statistical analyzis of data in R. It is a part of DAP project - input is a csv project with dataframe crated after retrievial of from MongoDB and before submission to PosgresSQL DB. "
   ]
  },
  {
   "cell_type": "code",
   "execution_count": 32,
   "metadata": {},
   "outputs": [],
   "source": [
    "#libraries\n",
    "library(car)"
   ]
  },
  {
   "cell_type": "markdown",
   "metadata": {},
   "source": [
    "## 2.  Getting the Data"
   ]
  },
  {
   "cell_type": "code",
   "execution_count": 4,
   "metadata": {},
   "outputs": [
    {
     "data": {
      "text/html": [
       "<table class=\"dataframe\">\n",
       "<caption>A data.frame: 39 × 6</caption>\n",
       "<thead>\n",
       "\t<tr><th scope=col>X</th><th scope=col>Country</th><th scope=col>Population</th><th scope=col>Obesity_percentage</th><th scope=col>covid_deaths</th><th scope=col>covid_death_percentage</th></tr>\n",
       "\t<tr><th scope=col>&lt;int&gt;</th><th scope=col>&lt;chr&gt;</th><th scope=col>&lt;int&gt;</th><th scope=col>&lt;dbl&gt;</th><th scope=col>&lt;int&gt;</th><th scope=col>&lt;dbl&gt;</th></tr>\n",
       "</thead>\n",
       "<tbody>\n",
       "\t<tr><td> 0</td><td>Austria       </td><td>   9006398</td><td>21.9</td><td> 10152</td><td>1.127199e-03</td></tr>\n",
       "\t<tr><td> 1</td><td>Australia     </td><td>  25499884</td><td>30.4</td><td>   910</td><td>3.568644e-05</td></tr>\n",
       "\t<tr><td> 2</td><td>Belgium       </td><td>  11589623</td><td>24.5</td><td> 24140</td><td>2.082898e-03</td></tr>\n",
       "\t<tr><td> 3</td><td>Canada        </td><td>  37742154</td><td>31.3</td><td> 24110</td><td>6.388083e-04</td></tr>\n",
       "\t<tr><td> 4</td><td>Chile         </td><td>  19116201</td><td>28.8</td><td> 26073</td><td>1.363922e-03</td></tr>\n",
       "\t<tr><td> 5</td><td>Colombia      </td><td>  50882891</td><td>22.1</td><td> 72725</td><td>1.429262e-03</td></tr>\n",
       "\t<tr><td> 6</td><td>Czech Republic</td><td>  10708981</td><td>28.5</td><td> 29141</td><td>2.721174e-03</td></tr>\n",
       "\t<tr><td> 7</td><td>Denmark       </td><td>   5792202</td><td>21.3</td><td>  2482</td><td>4.285072e-04</td></tr>\n",
       "\t<tr><td> 8</td><td>Estonia       </td><td>   1326535</td><td>23.8</td><td>  1148</td><td>8.654125e-04</td></tr>\n",
       "\t<tr><td> 9</td><td>Finland       </td><td>   5540720</td><td>24.9</td><td>   911</td><td>1.644191e-04</td></tr>\n",
       "\t<tr><td>10</td><td>France        </td><td>  65273511</td><td>23.2</td><td>104077</td><td>1.594475e-03</td></tr>\n",
       "\t<tr><td>11</td><td>Germany       </td><td>  83783942</td><td>25.7</td><td> 82588</td><td>9.857259e-04</td></tr>\n",
       "\t<tr><td>12</td><td>Greece        </td><td>  10423054</td><td>27.4</td><td> 10242</td><td>9.826295e-04</td></tr>\n",
       "\t<tr><td>13</td><td>Hungary       </td><td>   9660351</td><td>28.6</td><td> 27172</td><td>2.812734e-03</td></tr>\n",
       "\t<tr><td>14</td><td>Iceland       </td><td>    341243</td><td>23.1</td><td>    29</td><td>8.498343e-05</td></tr>\n",
       "\t<tr><td>15</td><td>Ireland       </td><td>   4937786</td><td>26.9</td><td>  4896</td><td>9.915375e-04</td></tr>\n",
       "\t<tr><td>16</td><td>Israel        </td><td>   8655535</td><td>26.7</td><td>  6361</td><td>7.349055e-04</td></tr>\n",
       "\t<tr><td>17</td><td>Italy         </td><td>  60461826</td><td>22.9</td><td>120256</td><td>1.988957e-03</td></tr>\n",
       "\t<tr><td>18</td><td>Japan         </td><td> 126476461</td><td> 4.4</td><td> 10052</td><td>7.947724e-05</td></tr>\n",
       "\t<tr><td>19</td><td>Korea         </td><td>  51269185</td><td> 4.9</td><td>  1825</td><td>3.559643e-05</td></tr>\n",
       "\t<tr><td>20</td><td>Latvia        </td><td>   1886198</td><td>25.7</td><td>  2118</td><td>1.122894e-03</td></tr>\n",
       "\t<tr><td>21</td><td>Lithuania     </td><td>   2722289</td><td>28.4</td><td>  3900</td><td>1.432618e-03</td></tr>\n",
       "\t<tr><td>22</td><td>Luxembourg    </td><td>    625978</td><td>24.2</td><td>   792</td><td>1.265220e-03</td></tr>\n",
       "\t<tr><td>23</td><td>Mexico        </td><td> 128932753</td><td>28.4</td><td>215918</td><td>1.674656e-03</td></tr>\n",
       "\t<tr><td>24</td><td>Netherlands   </td><td>  17134872</td><td>23.1</td><td> 17339</td><td>1.011913e-03</td></tr>\n",
       "\t<tr><td>25</td><td>New Zealand   </td><td>   4822233</td><td>32.0</td><td>    26</td><td>5.391693e-06</td></tr>\n",
       "\t<tr><td>26</td><td>Norway        </td><td>   5421241</td><td>25.0</td><td>   753</td><td>1.388981e-04</td></tr>\n",
       "\t<tr><td>27</td><td>Poland        </td><td>  37846611</td><td>25.6</td><td> 66533</td><td>1.757965e-03</td></tr>\n",
       "\t<tr><td>28</td><td>Portugal      </td><td>  10196709</td><td>23.2</td><td> 16973</td><td>1.664557e-03</td></tr>\n",
       "\t<tr><td>29</td><td>Slovakia      </td><td>   5459642</td><td>22.4</td><td> 11611</td><td>2.126696e-03</td></tr>\n",
       "\t<tr><td>30</td><td>Slovenia      </td><td>   2078938</td><td>22.5</td><td>  4236</td><td>2.037579e-03</td></tr>\n",
       "\t<tr><td>31</td><td>Spain         </td><td>  46754778</td><td>27.1</td><td> 77943</td><td>1.667060e-03</td></tr>\n",
       "\t<tr><td>32</td><td>Sweden        </td><td>  10099265</td><td>22.1</td><td> 14000</td><td>1.386239e-03</td></tr>\n",
       "\t<tr><td>33</td><td>Switzerland   </td><td>   8654622</td><td>21.2</td><td> 10617</td><td>1.226743e-03</td></tr>\n",
       "\t<tr><td>34</td><td>Turkey        </td><td>  84339067</td><td>32.2</td><td> 39398</td><td>4.671382e-04</td></tr>\n",
       "\t<tr><td>35</td><td>United Kingdom</td><td>  67886011</td><td>29.5</td><td>127734</td><td>1.881595e-03</td></tr>\n",
       "\t<tr><td>36</td><td>United States </td><td> 331002651</td><td>37.3</td><td>574340</td><td>1.735152e-03</td></tr>\n",
       "\t<tr><td>37</td><td>China         </td><td>1439323776</td><td> 6.6</td><td>  4845</td><td>3.366164e-06</td></tr>\n",
       "\t<tr><td>38</td><td>India         </td><td>1380004385</td><td> 3.8</td><td>204832</td><td>1.484285e-04</td></tr>\n",
       "</tbody>\n",
       "</table>\n"
      ],
      "text/latex": [
       "A data.frame: 39 × 6\n",
       "\\begin{tabular}{llllll}\n",
       " X & Country & Population & Obesity\\_percentage & covid\\_deaths & covid\\_death\\_percentage\\\\\n",
       " <int> & <chr> & <int> & <dbl> & <int> & <dbl>\\\\\n",
       "\\hline\n",
       "\t  0 & Austria        &    9006398 & 21.9 &  10152 & 1.127199e-03\\\\\n",
       "\t  1 & Australia      &   25499884 & 30.4 &    910 & 3.568644e-05\\\\\n",
       "\t  2 & Belgium        &   11589623 & 24.5 &  24140 & 2.082898e-03\\\\\n",
       "\t  3 & Canada         &   37742154 & 31.3 &  24110 & 6.388083e-04\\\\\n",
       "\t  4 & Chile          &   19116201 & 28.8 &  26073 & 1.363922e-03\\\\\n",
       "\t  5 & Colombia       &   50882891 & 22.1 &  72725 & 1.429262e-03\\\\\n",
       "\t  6 & Czech Republic &   10708981 & 28.5 &  29141 & 2.721174e-03\\\\\n",
       "\t  7 & Denmark        &    5792202 & 21.3 &   2482 & 4.285072e-04\\\\\n",
       "\t  8 & Estonia        &    1326535 & 23.8 &   1148 & 8.654125e-04\\\\\n",
       "\t  9 & Finland        &    5540720 & 24.9 &    911 & 1.644191e-04\\\\\n",
       "\t 10 & France         &   65273511 & 23.2 & 104077 & 1.594475e-03\\\\\n",
       "\t 11 & Germany        &   83783942 & 25.7 &  82588 & 9.857259e-04\\\\\n",
       "\t 12 & Greece         &   10423054 & 27.4 &  10242 & 9.826295e-04\\\\\n",
       "\t 13 & Hungary        &    9660351 & 28.6 &  27172 & 2.812734e-03\\\\\n",
       "\t 14 & Iceland        &     341243 & 23.1 &     29 & 8.498343e-05\\\\\n",
       "\t 15 & Ireland        &    4937786 & 26.9 &   4896 & 9.915375e-04\\\\\n",
       "\t 16 & Israel         &    8655535 & 26.7 &   6361 & 7.349055e-04\\\\\n",
       "\t 17 & Italy          &   60461826 & 22.9 & 120256 & 1.988957e-03\\\\\n",
       "\t 18 & Japan          &  126476461 &  4.4 &  10052 & 7.947724e-05\\\\\n",
       "\t 19 & Korea          &   51269185 &  4.9 &   1825 & 3.559643e-05\\\\\n",
       "\t 20 & Latvia         &    1886198 & 25.7 &   2118 & 1.122894e-03\\\\\n",
       "\t 21 & Lithuania      &    2722289 & 28.4 &   3900 & 1.432618e-03\\\\\n",
       "\t 22 & Luxembourg     &     625978 & 24.2 &    792 & 1.265220e-03\\\\\n",
       "\t 23 & Mexico         &  128932753 & 28.4 & 215918 & 1.674656e-03\\\\\n",
       "\t 24 & Netherlands    &   17134872 & 23.1 &  17339 & 1.011913e-03\\\\\n",
       "\t 25 & New Zealand    &    4822233 & 32.0 &     26 & 5.391693e-06\\\\\n",
       "\t 26 & Norway         &    5421241 & 25.0 &    753 & 1.388981e-04\\\\\n",
       "\t 27 & Poland         &   37846611 & 25.6 &  66533 & 1.757965e-03\\\\\n",
       "\t 28 & Portugal       &   10196709 & 23.2 &  16973 & 1.664557e-03\\\\\n",
       "\t 29 & Slovakia       &    5459642 & 22.4 &  11611 & 2.126696e-03\\\\\n",
       "\t 30 & Slovenia       &    2078938 & 22.5 &   4236 & 2.037579e-03\\\\\n",
       "\t 31 & Spain          &   46754778 & 27.1 &  77943 & 1.667060e-03\\\\\n",
       "\t 32 & Sweden         &   10099265 & 22.1 &  14000 & 1.386239e-03\\\\\n",
       "\t 33 & Switzerland    &    8654622 & 21.2 &  10617 & 1.226743e-03\\\\\n",
       "\t 34 & Turkey         &   84339067 & 32.2 &  39398 & 4.671382e-04\\\\\n",
       "\t 35 & United Kingdom &   67886011 & 29.5 & 127734 & 1.881595e-03\\\\\n",
       "\t 36 & United States  &  331002651 & 37.3 & 574340 & 1.735152e-03\\\\\n",
       "\t 37 & China          & 1439323776 &  6.6 &   4845 & 3.366164e-06\\\\\n",
       "\t 38 & India          & 1380004385 &  3.8 & 204832 & 1.484285e-04\\\\\n",
       "\\end{tabular}\n"
      ],
      "text/markdown": [
       "\n",
       "A data.frame: 39 × 6\n",
       "\n",
       "| X &lt;int&gt; | Country &lt;chr&gt; | Population &lt;int&gt; | Obesity_percentage &lt;dbl&gt; | covid_deaths &lt;int&gt; | covid_death_percentage &lt;dbl&gt; |\n",
       "|---|---|---|---|---|---|\n",
       "|  0 | Austria        |    9006398 | 21.9 |  10152 | 1.127199e-03 |\n",
       "|  1 | Australia      |   25499884 | 30.4 |    910 | 3.568644e-05 |\n",
       "|  2 | Belgium        |   11589623 | 24.5 |  24140 | 2.082898e-03 |\n",
       "|  3 | Canada         |   37742154 | 31.3 |  24110 | 6.388083e-04 |\n",
       "|  4 | Chile          |   19116201 | 28.8 |  26073 | 1.363922e-03 |\n",
       "|  5 | Colombia       |   50882891 | 22.1 |  72725 | 1.429262e-03 |\n",
       "|  6 | Czech Republic |   10708981 | 28.5 |  29141 | 2.721174e-03 |\n",
       "|  7 | Denmark        |    5792202 | 21.3 |   2482 | 4.285072e-04 |\n",
       "|  8 | Estonia        |    1326535 | 23.8 |   1148 | 8.654125e-04 |\n",
       "|  9 | Finland        |    5540720 | 24.9 |    911 | 1.644191e-04 |\n",
       "| 10 | France         |   65273511 | 23.2 | 104077 | 1.594475e-03 |\n",
       "| 11 | Germany        |   83783942 | 25.7 |  82588 | 9.857259e-04 |\n",
       "| 12 | Greece         |   10423054 | 27.4 |  10242 | 9.826295e-04 |\n",
       "| 13 | Hungary        |    9660351 | 28.6 |  27172 | 2.812734e-03 |\n",
       "| 14 | Iceland        |     341243 | 23.1 |     29 | 8.498343e-05 |\n",
       "| 15 | Ireland        |    4937786 | 26.9 |   4896 | 9.915375e-04 |\n",
       "| 16 | Israel         |    8655535 | 26.7 |   6361 | 7.349055e-04 |\n",
       "| 17 | Italy          |   60461826 | 22.9 | 120256 | 1.988957e-03 |\n",
       "| 18 | Japan          |  126476461 |  4.4 |  10052 | 7.947724e-05 |\n",
       "| 19 | Korea          |   51269185 |  4.9 |   1825 | 3.559643e-05 |\n",
       "| 20 | Latvia         |    1886198 | 25.7 |   2118 | 1.122894e-03 |\n",
       "| 21 | Lithuania      |    2722289 | 28.4 |   3900 | 1.432618e-03 |\n",
       "| 22 | Luxembourg     |     625978 | 24.2 |    792 | 1.265220e-03 |\n",
       "| 23 | Mexico         |  128932753 | 28.4 | 215918 | 1.674656e-03 |\n",
       "| 24 | Netherlands    |   17134872 | 23.1 |  17339 | 1.011913e-03 |\n",
       "| 25 | New Zealand    |    4822233 | 32.0 |     26 | 5.391693e-06 |\n",
       "| 26 | Norway         |    5421241 | 25.0 |    753 | 1.388981e-04 |\n",
       "| 27 | Poland         |   37846611 | 25.6 |  66533 | 1.757965e-03 |\n",
       "| 28 | Portugal       |   10196709 | 23.2 |  16973 | 1.664557e-03 |\n",
       "| 29 | Slovakia       |    5459642 | 22.4 |  11611 | 2.126696e-03 |\n",
       "| 30 | Slovenia       |    2078938 | 22.5 |   4236 | 2.037579e-03 |\n",
       "| 31 | Spain          |   46754778 | 27.1 |  77943 | 1.667060e-03 |\n",
       "| 32 | Sweden         |   10099265 | 22.1 |  14000 | 1.386239e-03 |\n",
       "| 33 | Switzerland    |    8654622 | 21.2 |  10617 | 1.226743e-03 |\n",
       "| 34 | Turkey         |   84339067 | 32.2 |  39398 | 4.671382e-04 |\n",
       "| 35 | United Kingdom |   67886011 | 29.5 | 127734 | 1.881595e-03 |\n",
       "| 36 | United States  |  331002651 | 37.3 | 574340 | 1.735152e-03 |\n",
       "| 37 | China          | 1439323776 |  6.6 |   4845 | 3.366164e-06 |\n",
       "| 38 | India          | 1380004385 |  3.8 | 204832 | 1.484285e-04 |\n",
       "\n"
      ],
      "text/plain": [
       "   X  Country        Population Obesity_percentage covid_deaths\n",
       "1   0 Austria           9006398 21.9                10152      \n",
       "2   1 Australia        25499884 30.4                  910      \n",
       "3   2 Belgium          11589623 24.5                24140      \n",
       "4   3 Canada           37742154 31.3                24110      \n",
       "5   4 Chile            19116201 28.8                26073      \n",
       "6   5 Colombia         50882891 22.1                72725      \n",
       "7   6 Czech Republic   10708981 28.5                29141      \n",
       "8   7 Denmark           5792202 21.3                 2482      \n",
       "9   8 Estonia           1326535 23.8                 1148      \n",
       "10  9 Finland           5540720 24.9                  911      \n",
       "11 10 France           65273511 23.2               104077      \n",
       "12 11 Germany          83783942 25.7                82588      \n",
       "13 12 Greece           10423054 27.4                10242      \n",
       "14 13 Hungary           9660351 28.6                27172      \n",
       "15 14 Iceland            341243 23.1                   29      \n",
       "16 15 Ireland           4937786 26.9                 4896      \n",
       "17 16 Israel            8655535 26.7                 6361      \n",
       "18 17 Italy            60461826 22.9               120256      \n",
       "19 18 Japan           126476461  4.4                10052      \n",
       "20 19 Korea            51269185  4.9                 1825      \n",
       "21 20 Latvia            1886198 25.7                 2118      \n",
       "22 21 Lithuania         2722289 28.4                 3900      \n",
       "23 22 Luxembourg         625978 24.2                  792      \n",
       "24 23 Mexico          128932753 28.4               215918      \n",
       "25 24 Netherlands      17134872 23.1                17339      \n",
       "26 25 New Zealand       4822233 32.0                   26      \n",
       "27 26 Norway            5421241 25.0                  753      \n",
       "28 27 Poland           37846611 25.6                66533      \n",
       "29 28 Portugal         10196709 23.2                16973      \n",
       "30 29 Slovakia          5459642 22.4                11611      \n",
       "31 30 Slovenia          2078938 22.5                 4236      \n",
       "32 31 Spain            46754778 27.1                77943      \n",
       "33 32 Sweden           10099265 22.1                14000      \n",
       "34 33 Switzerland       8654622 21.2                10617      \n",
       "35 34 Turkey           84339067 32.2                39398      \n",
       "36 35 United Kingdom   67886011 29.5               127734      \n",
       "37 36 United States   331002651 37.3               574340      \n",
       "38 37 China          1439323776  6.6                 4845      \n",
       "39 38 India          1380004385  3.8               204832      \n",
       "   covid_death_percentage\n",
       "1  1.127199e-03          \n",
       "2  3.568644e-05          \n",
       "3  2.082898e-03          \n",
       "4  6.388083e-04          \n",
       "5  1.363922e-03          \n",
       "6  1.429262e-03          \n",
       "7  2.721174e-03          \n",
       "8  4.285072e-04          \n",
       "9  8.654125e-04          \n",
       "10 1.644191e-04          \n",
       "11 1.594475e-03          \n",
       "12 9.857259e-04          \n",
       "13 9.826295e-04          \n",
       "14 2.812734e-03          \n",
       "15 8.498343e-05          \n",
       "16 9.915375e-04          \n",
       "17 7.349055e-04          \n",
       "18 1.988957e-03          \n",
       "19 7.947724e-05          \n",
       "20 3.559643e-05          \n",
       "21 1.122894e-03          \n",
       "22 1.432618e-03          \n",
       "23 1.265220e-03          \n",
       "24 1.674656e-03          \n",
       "25 1.011913e-03          \n",
       "26 5.391693e-06          \n",
       "27 1.388981e-04          \n",
       "28 1.757965e-03          \n",
       "29 1.664557e-03          \n",
       "30 2.126696e-03          \n",
       "31 2.037579e-03          \n",
       "32 1.667060e-03          \n",
       "33 1.386239e-03          \n",
       "34 1.226743e-03          \n",
       "35 4.671382e-04          \n",
       "36 1.881595e-03          \n",
       "37 1.735152e-03          \n",
       "38 3.366164e-06          \n",
       "39 1.484285e-04          "
      ]
     },
     "metadata": {},
     "output_type": "display_data"
    },
    {
     "ename": "ERROR",
     "evalue": "Error in eval(expr, envir, enclos): object 'data.head' not found\n",
     "output_type": "error",
     "traceback": [
      "Error in eval(expr, envir, enclos): object 'data.head' not found\nTraceback:\n"
     ]
    }
   ],
   "source": [
    "data <- as.data.frame <- (read.table(\"df_for_R.csv\", sep=\",\", header=TRUE))\n",
    "data\n",
    "data.head"
   ]
  },
  {
   "cell_type": "markdown",
   "metadata": {},
   "source": [
    "### 2.1. Removiong  Observation  - with posible  data-entry errors\n",
    "Threre is no entries with epossible data entry errors: \n"
   ]
  },
  {
   "cell_type": "markdown",
   "metadata": {},
   "source": [
    "## 3. Descriptive statistics "
   ]
  },
  {
   "cell_type": "code",
   "execution_count": 5,
   "metadata": {
    "ExecuteTime": {
     "end_time": "2021-03-04T19:41:39.859356Z",
     "start_time": "2021-03-04T19:41:39.259Z"
    }
   },
   "outputs": [
    {
     "data": {
      "text/plain": [
       "       X          Country            Population        Obesity_percentage\n",
       " Min.   : 0.0   Length:39          Min.   :3.412e+05   Min.   : 3.80     \n",
       " 1st Qu.: 9.5   Class :character   1st Qu.:5.500e+06   1st Qu.:22.45     \n",
       " Median :19.0   Mode  :character   Median :1.071e+07   Median :24.90     \n",
       " Mean   :19.0                      Mean   :1.073e+08   Mean   :23.89     \n",
       " 3rd Qu.:28.5                      3rd Qu.:5.587e+07   3rd Qu.:28.40     \n",
       " Max.   :38.0                      Max.   :1.439e+09   Max.   :37.30     \n",
       "  covid_deaths    covid_death_percentage\n",
       " Min.   :    26   Min.   :3.366e-06     \n",
       " 1st Qu.:  3191   1st Qu.:4.478e-04     \n",
       " Median : 11611   Median :1.127e-03     \n",
       " Mean   : 50082   Mean   :1.126e-03     \n",
       " 3rd Qu.: 52966   3rd Qu.:1.671e-03     \n",
       " Max.   :574340   Max.   :2.813e-03     "
      ]
     },
     "metadata": {},
     "output_type": "display_data"
    }
   ],
   "source": [
    "summary(data)"
   ]
  },
  {
   "cell_type": "code",
   "execution_count": 6,
   "metadata": {},
   "outputs": [
    {
     "name": "stdout",
     "output_type": "stream",
     "text": [
      "'data.frame':\t39 obs. of  6 variables:\n",
      " $ X                     : int  0 1 2 3 4 5 6 7 8 9 ...\n",
      " $ Country               : chr  \"Austria\" \"Australia\" \"Belgium\" \"Canada\" ...\n",
      " $ Population            : int  9006398 25499884 11589623 37742154 19116201 50882891 10708981 5792202 1326535 5540720 ...\n",
      " $ Obesity_percentage    : num  21.9 30.4 24.5 31.3 28.8 22.1 28.5 21.3 23.8 24.9 ...\n",
      " $ covid_deaths          : int  10152 910 24140 24110 26073 72725 29141 2482 1148 911 ...\n",
      " $ covid_death_percentage: num  1.13e-03 3.57e-05 2.08e-03 6.39e-04 1.36e-03 ...\n"
     ]
    }
   ],
   "source": [
    "str(data)"
   ]
  },
  {
   "cell_type": "markdown",
   "metadata": {},
   "source": [
    "## 4.  Visualisation - Numerical Variables"
   ]
  },
  {
   "cell_type": "markdown",
   "metadata": {},
   "source": [
    "Options to fit figures in paper "
   ]
  },
  {
   "cell_type": "code",
   "execution_count": 8,
   "metadata": {},
   "outputs": [],
   "source": [
    "#options(scipen=5)\n",
    "attach(data)\n",
    "#options(repr.plot.width=6, repr.plot.height=3)"
   ]
  },
  {
   "cell_type": "markdown",
   "metadata": {},
   "source": [
    "### 4.1. Boxplot - numerical variables"
   ]
  },
  {
   "cell_type": "code",
   "execution_count": 12,
   "metadata": {},
   "outputs": [
    {
     "data": {
      "image/png": "[encoded data removed]",
      "text/plain": [
       "plot without title"
      ]
     },
     "metadata": {
      "image/png": {
       "height": 420,
       "width": 420
      }
     },
     "output_type": "display_data"
    }
   ],
   "source": [
    "boxplot (Obesity_percentage, breaks=40, ylab='',xlab='Obesity_percentage', col='grey', cex.lab=1.25, cex.axis=1.25,\n",
    "         horizontal=TRUE)"
   ]
  },
  {
   "cell_type": "code",
   "execution_count": 13,
   "metadata": {},
   "outputs": [
    {
     "data": {
      "image/png": "[encoded data removed]",
      "text/plain": [
       "plot without title"
      ]
     },
     "metadata": {
      "image/png": {
       "height": 420,
       "width": 420
      }
     },
     "output_type": "display_data"
    }
   ],
   "source": [
    "boxplot (covid_deaths    , breaks=45, ylab=' ',xlab='covid_deaths    ', col='grey', cex.lab=1.25, cex.axis=1.25\n",
    "      ,horizontal=TRUE)"
   ]
  },
  {
   "cell_type": "code",
   "execution_count": 14,
   "metadata": {},
   "outputs": [
    {
     "data": {
      "image/png": "[encoded data removed]",
      "text/plain": [
       "plot without title"
      ]
     },
     "metadata": {
      "image/png": {
       "height": 420,
       "width": 420
      }
     },
     "output_type": "display_data"
    }
   ],
   "source": [
    "boxplot (covid_death_percentage,breaks=30, ylab='Number of Houses',xlab='covid_death_percentage', col='grey', cex.lab=1.25, cex.axis=1.25,horizontal=TRUE)"
   ]
  },
  {
   "cell_type": "markdown",
   "metadata": {},
   "source": [
    "### 4.2. Histograms - numerical variables"
   ]
  },
  {
   "cell_type": "code",
   "execution_count": 17,
   "metadata": {},
   "outputs": [
    {
     "data": {
      "image/png": "[encoded data removed]",
      "text/plain": [
       "Plot with title \"Histogram of Population\""
      ]
     },
     "metadata": {
      "image/png": {
       "height": 420,
       "width": 420
      }
     },
     "output_type": "display_data"
    }
   ],
   "source": [
    "hist (Population, breaks=100, ylab='',xlab='Population', col='grey', cex.lab=1.25, cex.axis=1.25)\n"
   ]
  },
  {
   "cell_type": "code",
   "execution_count": 18,
   "metadata": {},
   "outputs": [
    {
     "data": {
      "image/png": "[encoded data removed]",
      "text/plain": [
       "Plot with title \"Histogram of Obesity_percentage\""
      ]
     },
     "metadata": {
      "image/png": {
       "height": 420,
       "width": 420
      }
     },
     "output_type": "display_data"
    }
   ],
   "source": [
    "hist (Obesity_percentage, breaks=45, ylab='',xlab='Obesity_percentage', col='grey', cex.lab=1.25, cex.axis=1.25)"
   ]
  },
  {
   "cell_type": "code",
   "execution_count": 20,
   "metadata": {},
   "outputs": [
    {
     "data": {
      "image/png": "[encoded data removed]",
      "text/plain": [
       "Plot with title \"Histogram of covid_deaths\""
      ]
     },
     "metadata": {
      "image/png": {
       "height": 420,
       "width": 420
      }
     },
     "output_type": "display_data"
    }
   ],
   "source": [
    "hist (covid_deaths    ,breaks=45, ylab='  ',xlab='covid_deaths    ', col='grey', cex.lab=1.25, cex.axis=1.25)"
   ]
  },
  {
   "cell_type": "code",
   "execution_count": 21,
   "metadata": {},
   "outputs": [
    {
     "data": {
      "image/png": "[encoded data removed]",
      "text/plain": [
       "Plot with title \"Histogram of covid_death_percentage\""
      ]
     },
     "metadata": {
      "image/png": {
       "height": 420,
       "width": 420
      }
     },
     "output_type": "display_data"
    }
   ],
   "source": [
    "hist (covid_death_percentage,breaks=50, ylab=' ',xlab='covid_death_percentage', col='grey', cex.lab=1.25, cex.axis=1.25)"
   ]
  },
  {
   "cell_type": "markdown",
   "metadata": {},
   "source": [
    "## 4.3. Visualisation -Scatterplots (dependency between columns )"
   ]
  },
  {
   "cell_type": "code",
   "execution_count": 22,
   "metadata": {},
   "outputs": [
    {
     "data": {
      "image/png": "[encoded data removed]",
      "text/plain": [
       "Plot with title \"Population vs Obesity percantage\""
      ]
     },
     "metadata": {
      "image/png": {
       "height": 420,
       "width": 420
      }
     },
     "output_type": "display_data"
    }
   ],
   "source": [
    "plot(Population, Obesity_percentage, main=\"Population vs Obesity percantage\",\n",
    "   xlab=\"Population \", ylab=\"Obesity percantage\", pch=19)"
   ]
  },
  {
   "cell_type": "code",
   "execution_count": 23,
   "metadata": {},
   "outputs": [
    {
     "data": {
      "image/png": "[encoded data removed]",
      "text/plain": [
       "Plot with title \"Covid percentage vs Obesity percantage\""
      ]
     },
     "metadata": {
      "image/png": {
       "height": 420,
       "width": 420
      }
     },
     "output_type": "display_data"
    }
   ],
   "source": [
    "plot(covid_death_percentage, Obesity_percentage, main=\"Covid percentage vs Obesity percantage\",\n",
    "   xlab=\"covid_death_percentage \", ylab=\"Obesity percantage\", pch=19)"
   ]
  },
  {
   "cell_type": "markdown",
   "metadata": {},
   "source": [
    "# 5. Investigation of correlation between values column "
   ]
  },
  {
   "cell_type": "code",
   "execution_count": 33,
   "metadata": {
    "ExecuteTime": {
     "end_time": "2021-03-04T19:53:01.724290Z",
     "start_time": "2021-03-04T19:53:01.608Z"
    }
   },
   "outputs": [],
   "source": [
    "data.cor <- cor(data[,c(3:6)])"
   ]
  },
  {
   "cell_type": "code",
   "execution_count": 45,
   "metadata": {},
   "outputs": [
    {
     "name": "stderr",
     "output_type": "stream",
     "text": [
      "Warning message:\n",
      "\"package 'corrplot' is in use and will not be installed\"\n"
     ]
    }
   ],
   "source": [
    "install.packages(\"corrplot\")"
   ]
  },
  {
   "cell_type": "code",
   "execution_count": 41,
   "metadata": {
    "ExecuteTime": {
     "end_time": "2021-03-04T19:54:41.607161Z",
     "start_time": "2021-03-04T19:54:41.547Z"
    }
   },
   "outputs": [],
   "source": [
    "library(corrplot)"
   ]
  },
  {
   "cell_type": "code",
   "execution_count": 42,
   "metadata": {
    "ExecuteTime": {
     "end_time": "2021-03-04T19:54:43.218840Z",
     "start_time": "2021-03-04T19:54:43.094Z"
    }
   },
   "outputs": [
    {
     "data": {
      "image/png": "[encoded data removed]",
      "text/plain": [
       "Plot with title \"\""
      ]
     },
     "metadata": {
      "image/png": {
       "height": 420,
       "width": 420
      }
     },
     "output_type": "display_data"
    }
   ],
   "source": [
    "options(repr.plot.width=7, repr.plot.height=7)\n",
    "corrplot(data.cor)"
   ]
  },
  {
   "cell_type": "code",
   "execution_count": null,
   "metadata": {},
   "outputs": [],
   "source": []
  }
 ],
 "metadata": {
  "kernelspec": {
   "display_name": "R",
   "language": "R",
   "name": "ir"
  },
  "language_info": {
   "codemirror_mode": "r",
   "file_extension": ".r",
   "mimetype": "text/x-r-source",
   "name": "R",
   "pygments_lexer": "r",
   "version": "4.0.3"
  },
  "latex_envs": {
   "LaTeX_envs_menu_present": true,
   "autoclose": false,
   "autocomplete": true,
   "bibliofile": "biblio.bib",
   "cite_by": "apalike",
   "current_citInitial": 1,
   "eqLabelWithNumbers": true,
   "eqNumInitial": 1,
   "hotkeys": {
    "equation": "Ctrl-E",
    "itemize": "Ctrl-I"
   },
   "labels_anchors": false,
   "latex_user_defs": false,
   "report_style_numbering": false,
   "user_envs_cfg": false
  },
  "toc": {
   "base_numbering": 1,
   "nav_menu": {},
   "number_sections": true,
   "sideBar": true,
   "skip_h1_title": false,
   "title_cell": "Table of Contents",
   "title_sidebar": "Contents",
   "toc_cell": true,
   "toc_position": {},
   "toc_section_display": true,
   "toc_window_display": false
  },
  "varInspector": {
   "cols": {
    "lenName": 16,
    "lenType": 16,
    "lenVar": 40
   },
   "kernels_config": {
    "python": {
     "delete_cmd_postfix": "",
     "delete_cmd_prefix": "del ",
     "library": "var_list.py",
     "varRefreshCmd": "print(var_dic_list())"
    },
    "r": {
     "delete_cmd_postfix": ") ",
     "delete_cmd_prefix": "rm(",
     "library": "var_list.r",
     "varRefreshCmd": "cat(var_dic_list()) "
    }
   },
   "types_to_exclude": [
    "module",
    "function",
    "builtin_function_or_method",
    "instance",
    "_Feature"
   ],
   "window_display": false
  }
 },
 "nbformat": 4,
 "nbformat_minor": 5
}
